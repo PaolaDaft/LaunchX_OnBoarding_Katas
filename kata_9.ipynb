{
 "cells": [
  {
   "cell_type": "markdown",
   "metadata": {},
   "source": [
    "# Kata 9"
   ]
  },
  {
   "cell_type": "markdown",
   "metadata": {},
   "source": [
    "### Ejercicio 1: Trabajar con argumentos en funciones"
   ]
  },
  {
   "cell_type": "markdown",
   "metadata": {},
   "source": [
    "En este ejercicio, construirás un informe de combustible que requiere información de varias ubicaciones de combustible en todo el cohete."
   ]
  },
  {
   "cell_type": "code",
   "execution_count": 1,
   "metadata": {},
   "outputs": [],
   "source": [
    "# Función para leer 3 tanques de combustible y muestre el promedio\n",
    "\n",
    "def report (tank_1, tank_2, tank_3) :\n",
    "    total_average = round((tank_1 + tank_2 + tank_3) / 3, 3)\n",
    "    return f\"\"\"Fuel Report:\n",
    "    Total Average: {total_average}%\n",
    "    Main tank: {tank_1}%\n",
    "    External tank: {tank_2}%\n",
    "    Hydrogen tank: {tank_3}% \n",
    "    \"\"\""
   ]
  },
  {
   "cell_type": "code",
   "execution_count": 2,
   "metadata": {},
   "outputs": [
    {
     "name": "stdout",
     "output_type": "stream",
     "text": [
      "Fuel Report:\n",
      "    Total Average: 86.667%\n",
      "    Main tank: 90%\n",
      "    External tank: 70%\n",
      "    Hydrogen tank: 100% \n",
      "    \n"
     ]
    }
   ],
   "source": [
    "# Llamamos a la función que genera el reporte print(funcion(tanque1, tanque2, tanque3))\n",
    "print(report(90, 70,100))"
   ]
  },
  {
   "cell_type": "code",
   "execution_count": 3,
   "metadata": {},
   "outputs": [
    {
     "name": "stdout",
     "output_type": "stream",
     "text": [
      "82.0\n"
     ]
    }
   ],
   "source": [
    "# Función promedio \n",
    "\n",
    "def average (tank_1, tank_2, tank_3) :\n",
    "    return round((tank_1 + tank_2 + tank_3) / 3, 3)\n",
    "\n",
    "print (average(80, 85, 81))\n",
    "\n",
    "#Respuesta Sherpa Fer \n",
    "# def average(values):\n",
    "#     total = sum(values)\n",
    "#     number_of_items = len(values)\n",
    "#     return total / number_of_items\n",
    "\n",
    "# # Test the averaging function with a list of integers:\n",
    "# average([80, 85, 81]) \n",
    " \n"
   ]
  },
  {
   "cell_type": "code",
   "execution_count": 4,
   "metadata": {},
   "outputs": [
    {
     "name": "stdout",
     "output_type": "stream",
     "text": [
      "Fuel Report:\n",
      "    Total Average: 78.0%\n",
      "    Main tank: 88%\n",
      "    External tank: 76%\n",
      "    Hydrogen tank: 70% \n",
      "    \n"
     ]
    }
   ],
   "source": [
    "# Actualiza la función\n",
    "def report (tank_1, tank_2, tank_3) :\n",
    "    return f\"\"\"Fuel Report:\n",
    "    Total Average: {average (tank_1, tank_2, tank_3)}%\n",
    "    Main tank: {tank_1}%\n",
    "    External tank: {tank_2}%\n",
    "    Hydrogen tank: {tank_3}% \n",
    "    \"\"\"\n",
    "\n",
    "print(report(88, 76, 70))    "
   ]
  },
  {
   "cell_type": "markdown",
   "metadata": {},
   "source": [
    "### Ejercicio 2: Trabajar con argumentos de palabras clave en funciones"
   ]
  },
  {
   "cell_type": "code",
   "execution_count": 3,
   "metadata": {},
   "outputs": [
    {
     "name": "stdout",
     "output_type": "stream",
     "text": [
      "Ship Report:\n",
      "    Destination: Moon\n",
      "    Pre-launch time: 14 minutes\n",
      "    Flight time: 51 minutes\n",
      "    External tank: 76%\n",
      "    Internal tank: 97% \n",
      "    \n"
     ]
    }
   ],
   "source": [
    "# Función con un informe preciso de la misión. Considera hora de prelanzamiento, tiempo de vuelo, destino, tanque externo y tanque interno\n",
    "\n",
    "def ship_report (pre_launch_time, flight_time, destination, external_tank, internal_tank ) :\n",
    "    return f\"\"\"Ship Report:\n",
    "    Destination: {destination}\n",
    "    Pre-launch time: {pre_launch_time} minutes\n",
    "    Flight time: {flight_time} minutes\n",
    "    External tank: {external_tank}%\n",
    "    Internal tank: {internal_tank}% \n",
    "    \"\"\"\n",
    "\n",
    "print(ship_report(14, 51, \"Moon\", 76, 97))         \n"
   ]
  },
  {
   "cell_type": "markdown",
   "metadata": {},
   "source": [
    "La función es problemática porque no se puede adaptar para minutos adicionales o tanques adicionales de combustible. Hazlo más flexible permitiendo cualquier número de pasos basados en el tiempo y cualquier número de tanques. En lugar de usar *args y **kwargs, aprovecha el hecho de que puedes usar cualquier nombre que desees. Asegurate que la función sea más legible mediante el uso de nombres de variables que están asociados con las entradas, como *minutes y **fuel_reservoirs:"
   ]
  },
  {
   "cell_type": "code",
   "execution_count": 8,
   "metadata": {},
   "outputs": [
    {
     "name": "stdout",
     "output_type": "stream",
     "text": [
      "Ship Report:\n",
      "            Destination: Moon\n",
      "            Total travel time: 76 minutes\n",
      "            External tank: 79%\n",
      "            Internal tank: 87% \n",
      "            Fuel reservoirs: 500000 gallons\n",
      "            \n",
      "Ship Report:\n",
      "            Destination: Moon\n",
      "            Total travel time: 51 minutes\n",
      "            External tank: 79%\n",
      "            Internal tank: 87% \n",
      "            Fuel reservoirs: 500000 gallons\n",
      "            \n",
      "Ship Report:\n",
      "        Destination: Moon\n",
      "        External tank: 79%\n",
      "        Internal tank: 87% \n",
      "        \n"
     ]
    }
   ],
   "source": [
    "\n",
    "# Escribe tu nueva función de reporte considerando lo anterior\n",
    "def ship_report (destination, external_tank, internal_tank, *minutes, **fuel_reservoirs ) :\n",
    "    if minutes:\n",
    "        if fuel_reservoirs:\n",
    "            return f\"\"\"Ship Report:\n",
    "            Destination: {destination}\n",
    "            Total travel time: {sum(minutes)} minutes\n",
    "            External tank: {external_tank}%\n",
    "            Internal tank: {internal_tank}% \n",
    "            Fuel reservoirs: {sum(fuel_reservoirs.values())} gallons\n",
    "            \"\"\"\n",
    "        else:\n",
    "            return f\"\"\"Ship Report:\n",
    "            Destination: {destination}\n",
    "            Total travel time: {sum(minutes)} minutes\n",
    "            External tank: {external_tank}%\n",
    "            Internal tank: {internal_tank}% \n",
    "            \"\"\"\n",
    "    elif fuel_reservoirs:\n",
    "        return f\"\"\"Ship Report:\n",
    "        Destination: {destination}\n",
    "        Total travel time: {sum(minutes)} minutes\n",
    "        External tank: {external_tank}%\n",
    "        Internal tank: {internal_tank}% \n",
    "        Fuel reservoirs: {sum(fuel_reservoirs.values())} gallons\n",
    "        \"\"\"\n",
    "    else:\n",
    "        return f\"\"\"Ship Report:\n",
    "        Destination: {destination}\n",
    "        External tank: {external_tank}%\n",
    "        Internal tank: {internal_tank}% \n",
    "        \"\"\"    \n",
    "\n",
    "print(ship_report(\"Moon\", 79, 87, 10, 15, 51, reservoirs_two=300000, reservoirs_one=200000))     \n",
    "print(ship_report(\"Moon\", 79, 87, 51, reservoirs_two=300000, reservoirs_one=200000))  \n",
    "print(ship_report(\"Moon\", 79, 87))  "
   ]
  },
  {
   "cell_type": "code",
   "execution_count": 13,
   "metadata": {},
   "outputs": [
    {
     "name": "stdout",
     "output_type": "stream",
     "text": [
      "Ship Report:\n",
      "            Destination: Moon\n",
      "            Total travel time: 76 minutes\n",
      "            External tank: 79%\n",
      "            Internal tank: 87% \n",
      "            reservoirs_one tank: 200000 gallons left\n",
      "Ship Report:\n",
      "            Destination: Moon\n",
      "            Total travel time: 51 minutes\n",
      "            External tank: 79%\n",
      "            Internal tank: 87% \n",
      "            reservoirs_two tank: 300000 gallons leftreservoirs_one tank: 200000 gallons left\n",
      "Ship Report:\n",
      "        Destination: Moon\n",
      "        External tank: 79%\n",
      "        Internal tank: 87% \n",
      "        \n"
     ]
    }
   ],
   "source": [
    "# Debido a que el combustible que queda en los tanques es específico de cada tanque, actualiza la función para usar el nombre de cada tanque en el informe:\n",
    "def ship_report (destination, external_tank, internal_tank, *minutes, **fuel_reservoirs ) :\n",
    "    if minutes:\n",
    "        if fuel_reservoirs:\n",
    "            main_report = f\"\"\"Ship Report:\n",
    "            Destination: {destination}\n",
    "            Total travel time: {sum(minutes)} minutes\n",
    "            External tank: {external_tank}%\n",
    "            Internal tank: {internal_tank}% \n",
    "            \"\"\"\n",
    "            for tank_name, gallons in fuel_reservoirs.items():\n",
    "                main_report += f\"{tank_name} tank: {gallons} gallons left\"\n",
    "            return main_report\n",
    "        else:\n",
    "            return f\"\"\"Ship Report:\n",
    "            Destination: {destination}\n",
    "            Total travel time: {sum(minutes)} minutes\n",
    "            External tank: {external_tank}%\n",
    "            Internal tank: {internal_tank}% \n",
    "            \"\"\"\n",
    "    elif fuel_reservoirs:\n",
    "        main_report = f\"\"\"Ship Report:\n",
    "        Destination: {destination}\n",
    "        Total travel time: {sum(minutes)} minutes\n",
    "        External tank: {external_tank}%\n",
    "        Internal tank: {internal_tank}% \n",
    "        \"\"\"\n",
    "        for tank_name, gallons in fuel_reservoirs.items():\n",
    "            main_report += f\"{tank_name} tank: {gallons} gallons left\"\n",
    "        return main_report\n",
    "    else:\n",
    "        return f\"\"\"Ship Report:\n",
    "        Destination: {destination}\n",
    "        External tank: {external_tank}%\n",
    "        Internal tank: {internal_tank}% \n",
    "        \"\"\"    \n",
    "\n",
    "print(ship_report(\"Moon\", 79, 87, 10, 15, 51, reservoirs_one=200000))     \n",
    "print(ship_report(\"Moon\", 79, 87, 51, reservoirs_two=300000, reservoirs_one=200000))  \n",
    "print(ship_report(\"Moon\", 79, 87))  "
   ]
  }
 ],
 "metadata": {
  "interpreter": {
   "hash": "31f2aee4e71d21fbe5cf8b01ff0e069b9275f58929596ceb00d14d90e3e16cd6"
  },
  "kernelspec": {
   "display_name": "Python 3.8.10 64-bit",
   "language": "python",
   "name": "python3"
  },
  "language_info": {
   "codemirror_mode": {
    "name": "ipython",
    "version": 3
   },
   "file_extension": ".py",
   "mimetype": "text/x-python",
   "name": "python",
   "nbconvert_exporter": "python",
   "pygments_lexer": "ipython3",
   "version": "3.8.10"
  },
  "orig_nbformat": 4
 },
 "nbformat": 4,
 "nbformat_minor": 2
}
