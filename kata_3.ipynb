{
 "cells": [
  {
   "cell_type": "markdown",
   "metadata": {},
   "source": [
    "# Kata 3"
   ]
  },
  {
   "cell_type": "markdown",
   "metadata": {},
   "source": [
    "Ejercicio 1"
   ]
  },
  {
   "cell_type": "markdown",
   "metadata": {},
   "source": [
    "Para este ejercicio, escribirás una lógica condicional que imprima una advertencia si un asteroide se acerca a la Tierra demasiado rápido. La velocidad del asteroide varía dependiendo de lo cerca que esté del sol, y cualquier velocidad superior a 25 kilómetros por segundo (km/s) merece una advertencia."
   ]
  },
  {
   "cell_type": "code",
   "execution_count": 12,
   "metadata": {},
   "outputs": [
    {
     "name": "stdout",
     "output_type": "stream",
     "text": [
      "¡Alerta! ¡Un asteroide se acercando al a tierra!\n"
     ]
    }
   ],
   "source": [
    "# cualquier velocidad superior a 25 kilómetros por segundo (km/s) merece una advertencia.\n",
    "# Un asteroide se acerca, y viaja a una velocidad de 49 km/s.\n",
    "\n",
    "asteroide = 49\n",
    "\n",
    "if asteroide > 25:\n",
    "    print('¡Alerta! ¡Un asteroide se acercando al a tierra!')\n",
    "else:\n",
    "    print('Todo está correcto c;')"
   ]
  },
  {
   "cell_type": "markdown",
   "metadata": {},
   "source": [
    "Ejercicio 2"
   ]
  },
  {
   "cell_type": "code",
   "execution_count": 13,
   "metadata": {},
   "outputs": [
    {
     "name": "stdout",
     "output_type": "stream",
     "text": [
      "Todo está correcto c;\n"
     ]
    }
   ],
   "source": [
    "# Si un asteroide entra en la atmósfera de la Tierra a una velocidad mayor o igual a 20 km/s, \n",
    "# a veces produce un rayo de luz que se puede ver desde la Tierra.\n",
    "\n",
    "asteroide = 19\n",
    "\n",
    "if asteroide > 25:\n",
    "    print('¡Alerta! ¡Un asteroide se acercando al a tierra!')\n",
    "elif asteroide >= 20:\n",
    "    print('Hay una luz que se puede ver desde la Tierra!, voltea a ver!')  \n",
    "else:\n",
    "    print('Todo está correcto c;')"
   ]
  },
  {
   "cell_type": "markdown",
   "metadata": {},
   "source": [
    "Ejercicio 3"
   ]
  },
  {
   "cell_type": "code",
   "execution_count": 14,
   "metadata": {},
   "outputs": [
    {
     "name": "stdout",
     "output_type": "stream",
     "text": [
      "Hay una luz que se puede ver desde la Tierra!, voltea a ver!\n"
     ]
    }
   ],
   "source": [
    "# condiciones anteriores + Si una pieza de un asteroide que es más grande que 25 metros pero más pequeña que 1000 metros golpeara la Tierra, causaría mucho daño.\n",
    "\n",
    "#velocidad_asteroide = 25\n",
    "#tamano_asteroide = 40\n",
    "\n",
    "def gestor_advertencias():\n",
    "    velocidad_asteroide = float(input(\"Bienvenide, ¿Cuál es la valocidad del asteroide? \"))\n",
    "    tamano_asteroide = float(input(\"¿Cuál es el tamaño del asteroide? \"))\n",
    "    \n",
    "    if velocidad_asteroide > 25 and tamano_asteroide > 25:\n",
    "        print('¡Alerta, Un asteroide muy peligroso viene hacia la Tierra!')\n",
    "    elif velocidad_asteroide > 25:\n",
    "        print(\"\"\" ¡Alerta! ¡Un asteroide se acercando al a tierra!\n",
    "        Tamaño menor a 25 metros\"\"\")\n",
    "    elif velocidad_asteroide >= 20:\n",
    "        print('Hay una luz que se puede ver desde la Tierra!, voltea a ver!')  \n",
    "    else:\n",
    "        print('Todo está correcto c;')\n",
    "\n",
    "gestor_advertencias()\n"
   ]
  }
 ],
 "metadata": {
  "interpreter": {
   "hash": "31f2aee4e71d21fbe5cf8b01ff0e069b9275f58929596ceb00d14d90e3e16cd6"
  },
  "kernelspec": {
   "display_name": "Python 3.8.10 64-bit",
   "language": "python",
   "name": "python3"
  },
  "language_info": {
   "codemirror_mode": {
    "name": "ipython",
    "version": 3
   },
   "file_extension": ".py",
   "mimetype": "text/x-python",
   "name": "python",
   "nbconvert_exporter": "python",
   "pygments_lexer": "ipython3",
   "version": "3.8.10"
  },
  "orig_nbformat": 4
 },
 "nbformat": 4,
 "nbformat_minor": 2
}
